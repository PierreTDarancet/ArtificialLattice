{
 "cells": [
  {
   "cell_type": "markdown",
   "metadata": {},
   "source": [
    "# Zak Phase calculation for topological invariant "
   ]
  },
  {
   "cell_type": "markdown",
   "metadata": {},
   "source": [
    "Let's make graphene and try to compute the Zak phase for different cell size and shape"
   ]
  },
  {
   "cell_type": "code",
   "execution_count": 1,
   "metadata": {},
   "outputs": [],
   "source": [
    "%run matplotlib_setup.ipy\n",
    "\n",
    "from types import SimpleNamespace\n",
    "\n",
    "from ipywidgets import interact\n",
    "import matplotlib\n",
    "from matplotlib import pyplot\n",
    "from mpl_toolkits import mplot3d\n",
    "import numpy as np\n",
    "import scipy.linalg as la \n",
    "\n",
    "import kwant\n",
    "from kwant.wraparound import wraparound, plot_2d_bands\n",
    "\n",
    "\n",
    "def momentum_to_lattice(k):\n",
    "    \"\"\"Transform momentum to the basis of reciprocal lattice vectors.\n",
    "    \n",
    "    See https://en.wikipedia.org/wiki/Reciprocal_lattice#Generalization_of_a_dual_lattice\n",
    "    \"\"\"\n",
    "    B = np.array(graphene.prim_vecs).T\n",
    "    A = B.dot(np.linalg.inv(B.T.dot(B)))\n",
    "    return np.linalg.solve(A, k)\n",
    "\n",
    "\n",
    "def dispersion_2D(syst, args=None, lim=1.5*np.pi, num_points=200):\n",
    "    \"\"\"A simple plot of 2D band structure.\"\"\"\n",
    "    if args is None:\n",
    "        args = []\n",
    "    momenta = np.linspace(-lim, lim, num_points)\n",
    "    energies = []\n",
    "    for kx in momenta:\n",
    "        for ky in momenta:\n",
    "            lattice_k = momentum_to_lattice([kx, ky])\n",
    "            h = syst.hamiltonian_submatrix(args=(list(args) + list(lattice_k)))\n",
    "            energies.append(np.linalg.eigvalsh(h))\n",
    "    \n",
    "    energies = np.array(energies).reshape(num_points, num_points, -1)\n",
    "    emin, emax = np.min(energies), np.max(energies)\n",
    "    kx, ky = np.meshgrid(momenta, momenta)\n",
    "    fig = pyplot.figure()\n",
    "    axes = fig.add_subplot(1, 1, 1, projection='3d')\n",
    "    for band in range(energies.shape[-1]):\n",
    "        axes.plot_surface(kx, ky, energies[:, :, band], cstride=2, rstride=2,\n",
    "                          cmap=matplotlib.cm.RdBu_r, vmin=emin, vmax=emax,\n",
    "                          linewidth=0.1)"
   ]
  },
  {
   "cell_type": "code",
   "execution_count": 2,
   "metadata": {},
   "outputs": [],
   "source": [
    "#Some helper functions to make the schematic look neat\n",
    "def family_color(site): \n",
    "    if site.family == a: \n",
    "        return 0 \n",
    "    else: \n",
    "        return 1\n",
    "    \n",
    "def hopping_lw(site1,site2): \n",
    "    return 0.1 if A in [site1.family,site2.family] else 0.05"
   ]
  },
  {
   "cell_type": "code",
   "execution_count": 3,
   "metadata": {},
   "outputs": [],
   "source": [
    "graphene = kwant.lattice.general([[np.sqrt(3)/2,1/2],[np.sqrt(3)/2,-1/2]],  #Lattice vectors \n",
    "                                  [[0,0],[1/np.sqrt(3),0]]) # Co-ordinates\n",
    "a,b = graphene.sublattices"
   ]
  },
  {
   "cell_type": "code",
   "execution_count": null,
   "metadata": {},
   "outputs": [],
   "source": []
  }
 ],
 "metadata": {
  "kernelspec": {
   "display_name": "Python 3",
   "language": "python",
   "name": "python3"
  },
  "language_info": {
   "codemirror_mode": {
    "name": "ipython",
    "version": 3
   },
   "file_extension": ".py",
   "mimetype": "text/x-python",
   "name": "python",
   "nbconvert_exporter": "python",
   "pygments_lexer": "ipython3",
   "version": "3.6.6"
  }
 },
 "nbformat": 4,
 "nbformat_minor": 2
}
